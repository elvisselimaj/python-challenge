{
 "cells": [
  {
   "cell_type": "code",
   "execution_count": null,
   "metadata": {},
   "outputs": [],
   "source": [
    "import random\n",
    "import pandas as pd\n",
    "\n",
    "# Full Mon/Wed student roster\n",
    "students = ['Aaron','Alex','Brett','Chandra','Ericka','Hannah','Hussain','Hythem','Jack','Janice','Johar','John C.','John V.','Justin','Katarzyna','Keisha','Manuel','Mario','Michelle','Morgan','Nedal','Qing','Taoule','Thomas B.','Will','Zachary S.']\n",
    "\n",
    "# Full Tue/Thurs student roster\n",
    "# students = ['Andre','Brittany','David','Demetria','Edwin','Elvis','Fangyi','Fatima','Janna','Jean','Jethro','Jorge','Marvin','Nicholas G.','Nikolas M.','Philip','Rina','Robel','Stephen','Steven','Sumita','Tara','Thomas C.','William F.','William J.','Xiaobing','Zachary M.']\n",
    "\n",
    "# Full Combined student roster\n",
    "    # students = ['Aaron','Alex','Brett','Chandra','Ericka','Hannah','Hussain','Hythem','Jack','Janice','Johar','John C.','John V.','Julian S.','Justin','Katarzyna','Keisha','Manuel','Mario','Michelle','Morgan','Nedal','Qing','Taoule','Thomas B.','Will','Zachary S.','Andre','Brittany','David','Demetria','Edwin','Elvis','Fangyi','Fatima','Janna','Jean','Jethro','Jorge','Marvin','Nicholas G.','Nikolas M.','Philip','Rina','Robel','Stephen','Steven','Sumita','Tara','Thomas C.','William F.','William J.','Xiaobing','Zachary M.']\n",
    "\n",
    "assigned = [False for s in students]\n",
    "\n",
    "group_size = 2\n",
    "\n",
    "group_count = int(len(students)/group_size) + 1 \n",
    "# need to fix to handle uneven groups\n",
    "# the +1 is a workaround\n",
    "\n",
    "group = {(i + 1):[] for i in range(group_count)}\n",
    "\n",
    "while False in assigned:\n",
    "    index = 0\n",
    "\n",
    "    for s in students:\n",
    "\n",
    "        i = random.randint(1,group_count)\n",
    "\n",
    "        if assigned[index] == False:\n",
    "            \n",
    "            if(len(group[i]) < group_size):\n",
    "                group[i].append(s)\n",
    "                assigned[index] = True\n",
    "\n",
    "        index = index + 1\n",
    "    \n",
    "group_df = pd.DataFrame(dict([(key,pd.Series(value)) for key,value in group.items()]))\n",
    "group_df = pd.DataFrame.transpose(group_df)\n",
    "\n",
    "group_df"
   ]
  }
 ],
 "metadata": {
  "kernelspec": {
   "display_name": "Python 3",
   "language": "python",
   "name": "python3"
  },
  "language_info": {
   "codemirror_mode": {
    "name": "ipython",
    "version": 3
   },
   "file_extension": ".py",
   "mimetype": "text/x-python",
   "name": "python",
   "nbconvert_exporter": "python",
   "pygments_lexer": "ipython3",
   "version": "3.7.4"
  }
 },
 "nbformat": 4,
 "nbformat_minor": 2
}
