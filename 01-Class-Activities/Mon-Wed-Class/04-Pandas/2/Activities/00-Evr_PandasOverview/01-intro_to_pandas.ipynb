{
 "cells": [
  {
   "cell_type": "markdown",
   "metadata": {},
   "source": [
    "# <span style=\"color:blue\">Introduction to Pandas</span>\n",
    "\n",
    "Pandas is a Python module that contains structures and functions useful for data exploration and analysis.\n",
    "The two main data structures Pandas introduces are **Series** and **DataFrames**."
   ]
  },
  {
   "cell_type": "markdown",
   "metadata": {},
   "source": [
    "---\n",
    "## <span style=\"color:blue\">Pandas Series</span>\n",
    "- 1-D data structure (similar to Python lists, or an Excel column)\n",
    "- Can contain multiple data types, but usually should contain data of one type\n",
    "- Create a Pandas Series by passing in a **list** to **pd.Series()**\n",
    "- By default, a Pandas Series will have an index that starts at 0; can access specific values using this index\n",
    "- Learn more: https://pandas.pydata.org/pandas-docs/stable/generated/pandas.Series.html"
   ]
  },
  {
   "cell_type": "code",
   "execution_count": null,
   "metadata": {},
   "outputs": [],
   "source": [
    "#!pip install pandas"
   ]
  },
  {
   "cell_type": "code",
   "execution_count": null,
   "metadata": {},
   "outputs": [],
   "source": [
    "# Import Pandas module\n",
    "import pandas as pd"
   ]
  },
  {
   "cell_type": "code",
   "execution_count": null,
   "metadata": {},
   "outputs": [],
   "source": [
    "# Creating a Pandas Series\n",
    "\n",
    "my_list = [100, 200, 400, 600, 900]\n",
    "my_series = pd.Series(my_list)\n",
    "my_series"
   ]
  },
  {
   "cell_type": "code",
   "execution_count": null,
   "metadata": {},
   "outputs": [],
   "source": [
    "# Accessing specific values within Series\n",
    "\n",
    "print(my_series[1]) # will print 200\n",
    "print(my_series[3]) # will print 600"
   ]
  },
  {
   "cell_type": "markdown",
   "metadata": {},
   "source": [
    "---\n",
    "## <span style=\"color:blue\">Pandas DataFrames</span>\n",
    "- 2-D data structure with labeled rows and columns (similar to tables in Excel)\n",
    "    - For example: if we were looking at traffic violations data for NYC, each row could represent a violation instance, and each column could represent a specific attribution of a violation (date, amount of fine, location, etc.)\n",
    "- Create a Pandas Dataframe by using **pd.DataFrame()**, and passing in either a **list of dictionaries**, or a **dictionary with lists**\n",
    "- A lot of data in the real world will be provided in tabular format which can be easily translated into DataFrames\n",
    "- Learn more: https://pandas.pydata.org/pandas-docs/stable/generated/pandas.DataFrame.html"
   ]
  },
  {
   "cell_type": "code",
   "execution_count": null,
   "metadata": {},
   "outputs": [],
   "source": [
    "# Creating a Pandas DataFrame by passing in a LIST OF DICTIONARIES\n",
    "# Each value in the list is a dictionary\n",
    "# Imagine that each dictionary represents a row of data in our eventual dataframe\n",
    "# Each dictionary should have the same keys, since these keys dictate the column headers of our dataframe\n",
    "\n",
    "my_list = [{\"id\": 1, \"name\": \"Bob\", \"account_balance\": 500.14},\n",
    "           {\"id\": 2, \"name\": \"Amanda\", \"account_balance\": 300.42},\n",
    "           {\"id\": 3, \"name\": \"Jill\", \"account_balance\": 943.54},\n",
    "           {\"id\": 4, \"name\": \"Dylan\", \"account_balance\": 112.53},\n",
    "           {\"id\": 5, \"name\": \"Alex\", \"account_balance\": 895.51}]\n",
    "\n",
    "my_df_1 = pd.DataFrame(my_list)\n",
    "my_df_1"
   ]
  },
  {
   "cell_type": "code",
   "execution_count": null,
   "metadata": {},
   "outputs": [],
   "source": [
    "# Re-create the previous Pandas DataFrame, passing in a DICTIONARY WITH LISTS\n",
    "# The keys of the dictionary represent the column headers of our eventual dataframe\n",
    "# The lists contain the data for each column\n",
    "\n",
    "my_dict = {\"id\": [1, 2, 3, 4, 5],\n",
    "           \"name\": [\"Bob\", \"Amanda\", \"Jill\", \"Dylan\", \"Alex\"],\n",
    "           \"account_balance\": [500.14, 300.42, 943.54, 112.53, 895.51]}\n",
    "\n",
    "my_df_2 = pd.DataFrame(my_dict)\n",
    "my_df_2"
   ]
  },
  {
   "cell_type": "code",
   "execution_count": null,
   "metadata": {},
   "outputs": [],
   "source": [
    "# Select a single column from a dataframe by passing in the column's name into square brackets\n",
    "\n",
    "my_df_2[\"account_balance\"]"
   ]
  },
  {
   "cell_type": "code",
   "execution_count": null,
   "metadata": {},
   "outputs": [],
   "source": [
    "# You can also select a single column and assign it to another variable\n",
    "\n",
    "names_col = my_df_2[\"name\"]\n",
    "names_col"
   ]
  },
  {
   "cell_type": "code",
   "execution_count": null,
   "metadata": {},
   "outputs": [],
   "source": [
    "# Now names_col contains only the \"names\" column\n",
    "\n",
    "print(names_col[1])"
   ]
  },
  {
   "cell_type": "code",
   "execution_count": null,
   "metadata": {},
   "outputs": [],
   "source": [
    "# Select multiple columns from a dataframe by passing in a list of the names of the columns\n",
    "\n",
    "my_df_2[[\"name\", \"account_balance\"]]"
   ]
  },
  {
   "cell_type": "markdown",
   "metadata": {},
   "source": [
    "---\n",
    "## <span style=\"color:blue\">Important DataFrame Functions</span>\n",
    "**.head()** returns the first 5 rows of data"
   ]
  },
  {
   "cell_type": "code",
   "execution_count": null,
   "metadata": {},
   "outputs": [],
   "source": [
    "# Create a new DataFrame that represents purchase data from an online retailer\n",
    "\n",
    "my_dict_2 = {\"order_id\": [1, 2, 3, 4, 5, 6, 7, 8, 9, 10, 11, 12, 13],\n",
    "             \"price\": [13.50, 9.99, 12.00, 29.99, \n",
    "                       14.99, 7.99, 3.49, 10.00, \n",
    "                       9.99, 17.99, 20.00, 21.00, 14.99],\n",
    "             \"purchase_category\": [\"Apparel\", \"Sports\", \"Toys\", \n",
    "                                   \"Apparel\", \"Apparel\", \"Household\", \n",
    "                                   \"Household\", \"Toys\", \"Sports\", \n",
    "                                   \"Sports\", \"Apparel\", \"Household\", \"Apparel\"],\n",
    "             \"clicked_ad\": [True, True, False, True, False, \n",
    "                            True, True, False, False, True, \n",
    "                            True, True, False]}\n",
    "purchase_df = pd.DataFrame(my_dict_2)"
   ]
  },
  {
   "cell_type": "code",
   "execution_count": null,
   "metadata": {},
   "outputs": [],
   "source": [
    "# Show the first 5 rows of data using .head()\n",
    "# .head() is great for getting a taste of the data you're dealing with\n",
    "\n",
    "purchase_df.head()"
   ]
  },
  {
   "cell_type": "markdown",
   "metadata": {},
   "source": [
    "**.describe()** returns a table of summary statistics on numeric columns in a dataframe"
   ]
  },
  {
   "cell_type": "code",
   "execution_count": null,
   "metadata": {},
   "outputs": [],
   "source": [
    "# Note that .describe() will only return summary statistics for your numeric columns\n",
    "# In this case, statistics for order_id and price columns are returned\n",
    "\n",
    "purchase_df.describe()"
   ]
  },
  {
   "cell_type": "markdown",
   "metadata": {},
   "source": [
    "**.mean()** returns the average of all values in a given column or dataframe"
   ]
  },
  {
   "cell_type": "code",
   "execution_count": null,
   "metadata": {},
   "outputs": [],
   "source": [
    "# Return the mean of the price column\n",
    "\n",
    "purchase_df[\"price\"].mean()"
   ]
  },
  {
   "cell_type": "markdown",
   "metadata": {},
   "source": [
    "**.sum()** returns the sum of all values in a given column or dataframe"
   ]
  },
  {
   "cell_type": "code",
   "execution_count": null,
   "metadata": {},
   "outputs": [],
   "source": [
    "# Return the sum of all values in the order_id column\n",
    "\n",
    "purchase_df[\"order_id\"].sum()"
   ]
  },
  {
   "cell_type": "code",
   "execution_count": null,
   "metadata": {},
   "outputs": [],
   "source": [
    "# These values can also be assigned to variables\n",
    "\n",
    "mean_price = purchase_df[\"price\"].mean()\n",
    "sum_order_id = purchase_df[\"order_id\"].sum()\n",
    "\n",
    "mean_price + sum_order_id"
   ]
  },
  {
   "cell_type": "markdown",
   "metadata": {},
   "source": [
    "**.unique()** returns an array of all of the unique values within a given column"
   ]
  },
  {
   "cell_type": "code",
   "execution_count": null,
   "metadata": {},
   "outputs": [],
   "source": [
    "# Returns unique values in the purchase_category column\n",
    "\n",
    "unique_pcat = purchase_df[\"purchase_category\"].unique()\n",
    "print(unique_pcat)\n",
    "print(unique_pcat[2])"
   ]
  },
  {
   "cell_type": "markdown",
   "metadata": {},
   "source": [
    "**.value_counts()** returns an array containing the # of times each unique value occurs in a given column"
   ]
  },
  {
   "cell_type": "code",
   "execution_count": null,
   "metadata": {},
   "outputs": [],
   "source": [
    "# Returns the value counts of each unique value in the purchase_category column\n",
    "\n",
    "print(purchase_df[\"purchase_category\"].value_counts())"
   ]
  },
  {
   "cell_type": "markdown",
   "metadata": {},
   "source": [
    "---\n",
    "## <span style=\"color:blue\">Exploring Pandas DataFrames</span>\n",
    "\n",
    "Two functions exist to make life easier when trying to slice and dice any DataFrame: **.iloc[ ]** and **.loc[ ]**"
   ]
  },
  {
   "cell_type": "markdown",
   "metadata": {},
   "source": [
    "**.iloc[ ]** uses the *numeric* indexes of a dataframe's rows and columns to return specific values"
   ]
  },
  {
   "cell_type": "code",
   "execution_count": null,
   "metadata": {},
   "outputs": [],
   "source": [
    "# Use the purchase_df dataframe created above\n",
    "\n",
    "purchase_df"
   ]
  },
  {
   "cell_type": "markdown",
   "metadata": {},
   "source": [
    "There are several possible ways to use **.iloc[ ]**\n",
    "<br>\n",
    "The general structure is: **.iloc[*rows you want*, *columns you want*]**\n",
    "- Use single values to just get one row/column\n",
    "- Use a colon (:) to get all rows/columns\n",
    "- Use a list to get specific rows/columns\n",
    "- Use a range(x:y) to get a range of rows/columns"
   ]
  },
  {
   "cell_type": "code",
   "execution_count": null,
   "metadata": {},
   "outputs": [],
   "source": [
    "# To return ALL ROWS and COLUMN 2 (order_id)\n",
    "\n",
    "purchase_df.iloc[ : , 1]\n",
    "\n",
    "# The colon before the comma in .iloc[] means we want ALL rows\n",
    "# The 1 after the comma means we want the column at index 1"
   ]
  },
  {
   "cell_type": "code",
   "execution_count": null,
   "metadata": {},
   "outputs": [],
   "source": [
    "# To return ROWS 1 THROUGH 4 (including 4), and ALL COLUMNS\n",
    "\n",
    "purchase_df.iloc[0:4, : ]"
   ]
  },
  {
   "cell_type": "code",
   "execution_count": null,
   "metadata": {},
   "outputs": [],
   "source": [
    "# To returns ROWS 2, 3, AND 5, and COLUMNS 2 THROUGH 4 (including 4)\n",
    "\n",
    "purchase_df.iloc[[1, 2, 4], 1:4]"
   ]
  },
  {
   "cell_type": "markdown",
   "metadata": {},
   "source": [
    "**.loc[ ]** uses the *named* indexes of a dataframe's rows and columns to return specific values."
   ]
  },
  {
   "cell_type": "markdown",
   "metadata": {},
   "source": [
    "The general structure for .loc[] is the same as that for .iloc[], except named indexes are used instead of numeric indexes\n",
    "<br>\n",
    "A column's named index is simply its **column name**\n",
    "<br>\n",
    "By default, when we create a dataframe, a row's index is numeric and starts at 0. You can set a named index for a dataframe's rows by using **.set_index()**"
   ]
  },
  {
   "cell_type": "code",
   "execution_count": null,
   "metadata": {},
   "outputs": [],
   "source": [
    "# Create a new dataframe\n",
    "example_dict = {\"first_name\": [\"Bill\", \"James\", \"Tyler\", \"Matt\", \"Jon\"],\n",
    "                \"last_name\": [\"Smith\", \"Alvarez\", \"Dant\", \"May\", \"Livingston\"],\n",
    "                \"age\": [25, 34, 52, 26, 43],\n",
    "                \"credit_score\": [721, 683, 761, 641, 602]}\n",
    "credit_df = pd.DataFrame(example_dict)\n",
    "credit_df"
   ]
  },
  {
   "cell_type": "code",
   "execution_count": null,
   "metadata": {},
   "outputs": [],
   "source": [
    "# Set the row index to be the first_name\n",
    "\n",
    "credit_df = credit_df.set_index(\"first_name\")\n",
    "credit_df"
   ]
  },
  {
   "cell_type": "code",
   "execution_count": null,
   "metadata": {},
   "outputs": [],
   "source": [
    "# Now, we can filter this dataframe using .loc[]\n",
    "\n",
    "# Return data for James' and Tyler's rows, ALL COLUMNS included\n",
    "\n",
    "credit_df.loc[[\"James\", \"Tyler\"], : ]"
   ]
  },
  {
   "cell_type": "code",
   "execution_count": null,
   "metadata": {},
   "outputs": [],
   "source": [
    "# Return rows from Bill to Matt (including Matt), and only the age and credit_score columns\n",
    "\n",
    "credit_df.loc[\"Bill\":\"Matt\", [\"age\", \"credit_score\"]]"
   ]
  },
  {
   "cell_type": "code",
   "execution_count": null,
   "metadata": {},
   "outputs": [],
   "source": [
    "# Return all rows, only the credit_score column\n",
    "\n",
    "credit_df.loc[ : , \"credit_score\"]"
   ]
  },
  {
   "cell_type": "markdown",
   "metadata": {},
   "source": [
    "Remember, you can get the same data you want using either .loc[ ] or .iloc[ ]\n",
    "<br>\n",
    "The two functions essentially perform the same task, but with different methods of operation"
   ]
  }
 ],
 "metadata": {
  "kernelspec": {
   "display_name": "Python 3",
   "language": "python",
   "name": "python3"
  },
  "language_info": {
   "codemirror_mode": {
    "name": "ipython",
    "version": 3
   },
   "file_extension": ".py",
   "mimetype": "text/x-python",
   "name": "python",
   "nbconvert_exporter": "python",
   "pygments_lexer": "ipython3",
   "version": "3.6.9"
  }
 },
 "nbformat": 4,
 "nbformat_minor": 2
}
