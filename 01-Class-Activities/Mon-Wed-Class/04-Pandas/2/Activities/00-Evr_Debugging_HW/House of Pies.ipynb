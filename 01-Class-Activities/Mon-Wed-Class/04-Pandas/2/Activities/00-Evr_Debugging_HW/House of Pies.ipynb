{
 "cells": [
  {
   "cell_type": "code",
   "execution_count": null,
   "metadata": {},
   "outputs": [],
   "source": [
    "# Initial variable to track shopping status\n",
    "shopping = 'y'\n",
    "\n",
    "# List to track pie purchases\n",
    "pie_purchases = [0, 0, 0, 0, 0, 0, 0, 0, 0, 0]\n",
    "\n",
    "# Pie List\n",
    "pie_list = [\"Pecan\", \"Apple Crisp\", \"Bean\", \"Banoffee\", \"Black Bun\",\n",
    "            \"Blueberry\", \"Buko\", \"Burek\", \"Tamale\", \"Steak\"]"
   ]
  },
  {
   "cell_type": "code",
   "execution_count": 4,
   "metadata": {},
   "outputs": [
    {
     "name": "stdout",
     "output_type": "stream",
     "text": [
      "Welcome to the House of Pies! Here are our pies:\n",
      "------------------------------------------------------------------------\n",
      "You purchased: \n",
      "You purchased 0 Pecan \n",
      "You purchased 1 Apple Crisp \n",
      "You purchased 3 Bean \n",
      "You purchased 0 Banoffee \n",
      "You purchased 0 Black Bun \n",
      "You purchased 0 Blueberry \n",
      "You purchased 0 Buko \n",
      "You purchased 0 Burek \n",
      "You purchased 0 Tamale \n",
      "You purchased 0 Steak \n"
     ]
    }
   ],
   "source": [
    "# Display initial message\n",
    "print(\"Welcome to the House of Pies! Here are our pies:\")\n",
    "\n",
    "# While we are still shopping...\n",
    "while shopping == \"y\":\n",
    "    \n",
    "# Get index of the pie from the selected number\n",
    "    #for pie in pie_list:\n",
    "    #    print(f'[{str(pie_list.index(pie))}] {pie}')\n",
    "        \n",
    "    # Show pie selection prompt\n",
    "    print(\"---------------------------------------------------------------------\")\n",
    "    print(\"(1) Pecan, (2) Apple Crisp, (3) Bean, (4) Banoffee, \" +\n",
    "          \" (5) Black Bun, (6) Blueberry, (7) Buko, (8) Burek, \" +\n",
    "          \" (9) Tamale, (10) Steak \")\n",
    "\n",
    "    pie_choice = int(input(\"Which would you like? \")) - 1\n",
    "    print(pie_choice)\n",
    "    \n",
    "    # Add pie to the pie list by finding the matching index and adding one to its value\n",
    "    # print(pie_choice)\n",
    "    pie_purchases[pie_choice] += 1\n",
    "    # print(pie_purchases)\n",
    "\n",
    "    print(\"------------------------------------------------------------------------\")\n",
    "\n",
    "    # Inform the customer of the pie purchase\n",
    "    print(\"Great! We'll have that \" + str(pie_list[pie_choice]) + \" right out for you.\")\n",
    "\n",
    "    # Provide exit option\n",
    "    \n",
    "    # Prompt the user if they would like to make another purchase\n",
    "    shopping = input(\"Would you like to make another purchase: (y)es or (n)o? \")\n",
    "\n",
    "# Once the pie list is complete\n",
    "print(\"------------------------------------------------------------------------\")\n",
    "\n",
    "# Count instances of each pie\n",
    "print(\"You purchased: \")\n",
    "\n",
    "# Loop through the full pie list\n",
    "for i in range(len(pie_list)):\n",
    "    print(f\"You purchased {pie_purchases[i]} {pie_list[i]} \")\n",
    "\n",
    "\n",
    "    # Gather the count of each pie in the pie list and print them alongside the pies\n",
    "    # YOUR CODE HERE"
   ]
  },
  {
   "cell_type": "code",
   "execution_count": null,
   "metadata": {},
   "outputs": [],
   "source": []
  }
 ],
 "metadata": {
  "kernelspec": {
   "display_name": "Python 3",
   "language": "python",
   "name": "python3"
  },
  "language_info": {
   "codemirror_mode": {
    "name": "ipython",
    "version": 3
   },
   "file_extension": ".py",
   "mimetype": "text/x-python",
   "name": "python",
   "nbconvert_exporter": "python",
   "pygments_lexer": "ipython3",
   "version": "3.7.3"
  }
 },
 "nbformat": 4,
 "nbformat_minor": 2
}
