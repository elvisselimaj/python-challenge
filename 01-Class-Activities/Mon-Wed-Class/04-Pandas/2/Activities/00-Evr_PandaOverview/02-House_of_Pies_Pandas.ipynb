{
 "cells": [
  {
   "cell_type": "markdown",
   "metadata": {},
   "source": [
    "# Using Traditional Python without Pandas"
   ]
  },
  {
   "cell_type": "markdown",
   "metadata": {},
   "source": [
    "_This activity was inspired by Ed, so you can either thank or blame him._ \n",
    "\n",
    "_I think that you will thank him though._"
   ]
  },
  {
   "cell_type": "markdown",
   "metadata": {},
   "source": [
    "Set up your initial variables.\n",
    "* Initialize your `shopping` variable to `y` so that your `while` loop will run\n",
    "* Set up your `pie_list` list to include the options that the user can choose from\n",
    "* Set up your `pie_purchases` list to keep track of how many purchases the user selected\n",
    "    * Note that the indexes for `pie_list` and `pie_purchases` should be in alignment"
   ]
  },
  {
   "cell_type": "code",
   "execution_count": null,
   "metadata": {},
   "outputs": [],
   "source": [
    "# Initial variable to track shopping status\n",
    "shopping = 'y'\n",
    "\n",
    "# Pie List\n",
    "pie_list = [\"Pecan\", \"Apple Crisp\", \"Bean\", \"Banoffee\", \"Black Bun\",\n",
    "            \"Blueberry\", \"Buko\", \"Burek\", \"Tamale\", \"Steak\"]\n",
    "\n",
    "# List to track pie purchases\n",
    "pie_purchases = [0, 0, 0, 0, 0, 0, 0, 0, 0, 0]"
   ]
  },
  {
   "cell_type": "markdown",
   "metadata": {},
   "source": [
    "Present the user with the menu, and prompt them to select a pie.\n",
    "\n",
    "Use the `while` loop to control whether the user will continue shopping or not."
   ]
  },
  {
   "cell_type": "code",
   "execution_count": null,
   "metadata": {},
   "outputs": [],
   "source": [
    "# Display initial message\n",
    "print(\"Welcome to the House of Pies! Here are our pies:\")\n",
    "\n",
    "# While we are still shopping...\n",
    "while shopping == \"y\":\n",
    "\n",
    "    # Show pie selection prompt\n",
    "    print(\"---------------------------------------------------------------------\")\n",
    "    print(\"(1) Pecan, (2) Apple Crisp, (3) Bean, (4) Banoffee, \" +\n",
    "          \" (5) Black Bun, (6) Blueberry, (7) Buko, (8) Burek, \" +\n",
    "          \" (9) Tamale, (10) Steak \")\n",
    "\n",
    "    pie_choice = input(\"Which would you like? \")\n",
    "\n",
    "    # Get index of the pie from the selected number\n",
    "    choice_index = int(pie_choice) - 1\n",
    "\n",
    "    # Add pie to the pie list by finding the matching index and adding one to its value\n",
    "    pie_purchases[choice_index] += 1\n",
    "\n",
    "    print(\"------------------------------------------------------------------------\")\n",
    "\n",
    "    # Inform the customer of the pie purchase\n",
    "    print(\"Great! We'll have that \" + pie_list[choice_index] + \" right out for you.\")\n",
    "\n",
    "    # Provide exit option\n",
    "    shopping = input(\"Would you like to make another purchase: (y)es or (n)o? \")\n",
    "\n",
    "# Once the pie list is complete\n",
    "print(\"------------------------------------------------------------------------\")"
   ]
  },
  {
   "cell_type": "markdown",
   "metadata": {},
   "source": [
    "### Present the user with a summary of their purchases.\n",
    "\n",
    "* Loop through the `pie_list`\n",
    "* Use the `pie_index` for both lists to return:\n",
    "    * The number of purchases for that pie\n",
    "    * The name of the pie\n",
    "    * _Keep in mind that this is possible because the indexes are in alignment_"
   ]
  },
  {
   "cell_type": "code",
   "execution_count": null,
   "metadata": {},
   "outputs": [],
   "source": [
    "# Count instances of each pie\n",
    "print(\"You purchased: \")\n",
    "\n",
    "# Loop through the full pie list\n",
    "for pie_index in range(len(pie_list)):\n",
    "    pie_name = str(pie_list[pie_index])\n",
    "    pie_count = str(pie_purchases[pie_index])\n",
    "\n",
    "    # Gather the count of each pie in the pie list and print them alongside the pies\n",
    "    print(f\"{pie_count}  {pie_name}\")"
   ]
  },
  {
   "cell_type": "markdown",
   "metadata": {},
   "source": [
    "# Solving this task with Pandas"
   ]
  },
  {
   "cell_type": "code",
   "execution_count": null,
   "metadata": {},
   "outputs": [],
   "source": [
    "import pandas as pd"
   ]
  },
  {
   "cell_type": "code",
   "execution_count": null,
   "metadata": {},
   "outputs": [],
   "source": [
    "# Initial variable to track shopping status\n",
    "shopping = 'y'\n",
    "\n",
    "# Pie List\n",
    "pie_list = [\"Pecan\", \"Apple Crisp\", \"Bean\", \"Banoffee\", \"Black Bun\",\n",
    "            \"Blueberry\", \"Buko\", \"Burek\", \"Tamale\", \"Steak\"]\n",
    "\n",
    "# List to track pie purchases (dynamically assemble this using a list comprehension)\n",
    "pie_purchases = [0 for p in pie_list]\n",
    "\n",
    "pie_dict = {\"Pie\": pie_list, \"Purchases\": pie_purchases}\n",
    "\n",
    "pie_df = pd.DataFrame(pie_dict)"
   ]
  },
  {
   "cell_type": "code",
   "execution_count": null,
   "metadata": {},
   "outputs": [],
   "source": [
    "##### Display initial message\n",
    "print(\"Welcome to the House of Pies! Here are our pies:\\n\")\n",
    "\n",
    "for index, row in pie_df.iterrows():\n",
    "    print(f\"({index + 1}) {row['Pie']}\")\n",
    "          \n",
    "# While we are still shopping...\n",
    "while shopping == \"y\":\n",
    "\n",
    "    pie_choice = input(\"Which would you like? \")\n",
    "\n",
    "    # Get index of the pie from the selected number\n",
    "    choice_index = int(pie_choice) - 1\n",
    "          \n",
    "    # Find the record to increment\n",
    "    pie_df.loc[choice_index, \"Purchases\"] += 1 \n",
    "          \n",
    "    # Inform the customer of the pie purchase\n",
    "    print(\"Great! We'll have that \" + pie_df.loc[choice_index, \"Pie\"] + \" right out for you.\")\n",
    "          \n",
    "    # Provide exit option\n",
    "    shopping = input(\"Would you like to make another purchase: (y)es or (n)o? \")"
   ]
  },
  {
   "cell_type": "code",
   "execution_count": null,
   "metadata": {},
   "outputs": [],
   "source": [
    "print(\"You purchased\\n\")\n",
    "\n",
    "pie_df = pie_df.set_index(\"Pie\")\n",
    "\n",
    "pie_df"
   ]
  },
  {
   "cell_type": "markdown",
   "metadata": {},
   "source": [
    "pie_df"
   ]
  },
  {
   "cell_type": "code",
   "execution_count": null,
   "metadata": {},
   "outputs": [],
   "source": [
    "# We will talk more about this later\n",
    "pie_df.reset_index()"
   ]
  }
 ],
 "metadata": {
  "kernelspec": {
   "display_name": "Python 3",
   "language": "python",
   "name": "python3"
  },
  "language_info": {
   "codemirror_mode": {
    "name": "ipython",
    "version": 3
   },
   "file_extension": ".py",
   "mimetype": "text/x-python",
   "name": "python",
   "nbconvert_exporter": "python",
   "pygments_lexer": "ipython3",
   "version": "3.7.3"
  }
 },
 "nbformat": 4,
 "nbformat_minor": 2
}
