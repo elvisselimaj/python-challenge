{
 "cells": [
  {
   "cell_type": "code",
   "execution_count": null,
   "metadata": {},
   "outputs": [],
   "source": [
    "# Dependencies\n",
    "import pandas as pd"
   ]
  },
  {
   "cell_type": "code",
   "execution_count": null,
   "metadata": {},
   "outputs": [],
   "source": [
    "raw_data_info = {\n",
    "    \"customer_id\": [112, 403, 999, 543, 123, 602],\n",
    "    \"name\": [\"Dartanion\", \"Reed\", \"Asif\", \"Sam\", \"Abel\", \"Mike\"],\n",
    "    \"email\": [\"dartanion@dartanion.net\", \"reed@dartanion.net\", \"asif@dartanion.net\", \"sam@dartanion.net\", \"abel@dartanion.net\", \"mike@dartanion.net\"]\n",
    "}\n",
    "info_pd = pd.DataFrame(raw_data_info, columns=[\"customer_id\", \"name\", \"email\"])\n",
    "info_pd"
   ]
  },
  {
   "cell_type": "code",
   "execution_count": null,
   "metadata": {},
   "outputs": [],
   "source": [
    "# Create DataFrames\n",
    "raw_data_items = {\n",
    "    \"customer_id\": [403, 112, 543, 999, 654],\n",
    "    \"item\": [\"soda\", \"chips\", \"TV\", \"Laptop\", \"Cooler\"],\n",
    "    \"cost\": [3.00, 4.50, 600, 900, 150]\n",
    "}\n",
    "items_pd = pd.DataFrame(raw_data_items, columns=[\n",
    "                        \"customer_id\", \"item\", \"cost\"])\n",
    "items_pd"
   ]
  },
  {
   "cell_type": "code",
   "execution_count": null,
   "metadata": {},
   "outputs": [],
   "source": [
    "# Merge two dataframes using an inner join\n",
    "merge_table = pd.merge(info_pd, items_pd, on=\"customer_id\")\n",
    "merge_table"
   ]
  },
  {
   "cell_type": "code",
   "execution_count": null,
   "metadata": {},
   "outputs": [],
   "source": [
    "# Merge two dataframes using an outer join\n",
    "merge_table = pd.merge(info_pd, items_pd, on=\"customer_id\", how=\"outer\")\n",
    "merge_table"
   ]
  },
  {
   "cell_type": "code",
   "execution_count": null,
   "metadata": {},
   "outputs": [],
   "source": [
    "# Merge two dataframes using a left join\n",
    "merge_table = pd.merge(info_pd, items_pd, on=\"customer_id\", how=\"left\")\n",
    "merge_table"
   ]
  },
  {
   "cell_type": "code",
   "execution_count": null,
   "metadata": {},
   "outputs": [],
   "source": [
    "# Merge two dataframes using a right join\n",
    "merge_table = pd.merge(info_pd, items_pd, on=\"customer_id\", how=\"right\")\n",
    "merge_table"
   ]
  }
 ],
 "metadata": {
  "anaconda-cloud": {},
  "kernelspec": {
   "display_name": "Python 3",
   "language": "python",
   "name": "python3"
  },
  "language_info": {
   "codemirror_mode": {
    "name": "ipython",
    "version": 3
   },
   "file_extension": ".py",
   "mimetype": "text/x-python",
   "name": "python",
   "nbconvert_exporter": "python",
   "pygments_lexer": "ipython3",
   "version": "3.7.3"
  }
 },
 "nbformat": 4,
 "nbformat_minor": 2
}
