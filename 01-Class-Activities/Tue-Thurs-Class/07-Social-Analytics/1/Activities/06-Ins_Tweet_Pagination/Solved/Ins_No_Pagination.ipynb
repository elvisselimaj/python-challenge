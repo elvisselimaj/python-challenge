{
 "cells": [
  {
   "cell_type": "code",
   "execution_count": 1,
   "metadata": {},
   "outputs": [],
   "source": [
    "# Dependencies\n",
    "import tweepy\n",
    "import json\n",
    "from config import consumer_key, consumer_secret, access_token, access_token_secret\n",
    "\n",
    "# Setup Tweepy API Authentication\n",
    "auth = tweepy.OAuthHandler(consumer_key, consumer_secret)\n",
    "auth.set_access_token(access_token, access_token_secret)\n",
    "api = tweepy.API(auth, parser=tweepy.parsers.JSONParser())"
   ]
  },
  {
   "cell_type": "code",
   "execution_count": 2,
   "metadata": {},
   "outputs": [
    {
     "name": "stdout",
     "output_type": "stream",
     "text": [
      "Use our interactive tool to explore MPs’ records on 16 climate votes\n",
      "\n",
      "https://t.co/aXpNWdl1yn\n",
      "\n",
      "@PorcelinaD… https://t.co/b04kzDHbyG\n",
      "The 818 years of life lost by children killed in St Louis gun violence https://t.co/5caAXwIKrc\n",
      "How the climate crisis will affect you – interactive map https://t.co/0VX5RLJZ6Q\n",
      "How many US high school students smoke e-cigarettes? https://t.co/p1PLicZBsy\n",
      "Rape reports up, charges down: see the numbers in your area\n",
      "\n",
      "https://t.co/622YHYuzBZ\n",
      "\n",
      "@caelainnbarr @Josh_H https://t.co/8h4fgRKcrD\n",
      "Gender-neutral bathrooms can save women from waiting forever in line https://t.co/9rJSwB7XDh\n",
      "The US is separating families. There's overwhelming evidence that's bad for kids https://t.co/lpacF2vAMX\n",
      "What we know about child sexual abuse rates in the US | Mona Chalabi https://t.co/4VfYkRZu1y\n",
      "Just one in 20 Australian news stories about drought mention climate change https://t.co/LV7ll8gbSR\n",
      "Arnott's biscuit rankings controversy: have your say https://t.co/6jJRcdQCr4\n",
      "Infectious disease fatalities rise in Australia as overall death rate falls https://t.co/fRsvec3aMA\n",
      "Insuling costs are rising – and diabetic Americans of color are hit hardest | Mona Chalabi https://t.co/oOHwB2esDz\n",
      "RT @niamh_mcintyre: While schools are struggling with huge budget cuts, the DfE is spending millions forcing schools to convert to academie…\n",
      "Mapping every vote: extremely detailed maps on the 2019 election https://t.co/E7eApoxzz2\n",
      "Can the Coalition get its legislation through the Senate? Interactive vote calculator https://t.co/yA51evqBkD\n",
      "Sanders is right: Republican tax cuts cost more than forgiving student debt https://t.co/Mx2yHxiWpP\n",
      "No rest for the workers: how the US is out of step on paid leave https://t.co/m9VCMOgTKK\n",
      "RT @niamh_mcintyre: Home Office language tests, outsourced to private companies, assume that a person's speech can be mapped onto national…\n",
      "Sudan's government is minimizing the death toll in the Khartoum attack https://t.co/E1MPOk6FuK\n",
      "Minorities in the US breathe in more air pollution caused by white people https://t.co/wnXeWMYfvn\n"
     ]
    }
   ],
   "source": [
    "# Target User\n",
    "target_user = \"GuardianData\"\n",
    "\n",
    "# Tweet Texts\n",
    "tweet_texts = []\n",
    "\n",
    "# Get all tweets from home feed\n",
    "public_tweets = api.user_timeline(target_user)\n",
    "\n",
    "# Loop through all tweets\n",
    "for tweet in public_tweets:\n",
    "\n",
    "    # Print Tweet\n",
    "    print(tweet[\"text\"])\n",
    "\n",
    "    # Store Tweet in Array\n",
    "    tweet_texts.append(tweet[\"text\"])"
   ]
  },
  {
   "cell_type": "code",
   "execution_count": 3,
   "metadata": {},
   "outputs": [
    {
     "name": "stdout",
     "output_type": "stream",
     "text": [
      "Tweet Count: 20\n"
     ]
    }
   ],
   "source": [
    "# Print the Tweet Count\n",
    "print(f\"Tweet Count: {len(tweet_texts)}\")"
   ]
  }
 ],
 "metadata": {
  "kernelspec": {
   "display_name": "Python 3",
   "language": "python",
   "name": "python3"
  },
  "language_info": {
   "codemirror_mode": {
    "name": "ipython",
    "version": 3
   },
   "file_extension": ".py",
   "mimetype": "text/x-python",
   "name": "python",
   "nbconvert_exporter": "python",
   "pygments_lexer": "ipython3",
   "version": "3.7.3"
  },
  "varInspector": {
   "cols": {
    "lenName": 16,
    "lenType": 16,
    "lenVar": 40
   },
   "kernels_config": {
    "python": {
     "delete_cmd_postfix": "",
     "delete_cmd_prefix": "del ",
     "library": "var_list.py",
     "varRefreshCmd": "print(var_dic_list())"
    },
    "r": {
     "delete_cmd_postfix": ") ",
     "delete_cmd_prefix": "rm(",
     "library": "var_list.r",
     "varRefreshCmd": "cat(var_dic_list()) "
    }
   },
   "types_to_exclude": [
    "module",
    "function",
    "builtin_function_or_method",
    "instance",
    "_Feature"
   ],
   "window_display": false
  }
 },
 "nbformat": 4,
 "nbformat_minor": 2
}
