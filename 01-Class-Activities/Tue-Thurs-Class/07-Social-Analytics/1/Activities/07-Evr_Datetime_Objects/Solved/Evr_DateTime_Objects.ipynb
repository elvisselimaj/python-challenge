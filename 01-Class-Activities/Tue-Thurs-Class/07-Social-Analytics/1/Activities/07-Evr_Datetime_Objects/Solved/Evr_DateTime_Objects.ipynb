{
 "cells": [
  {
   "cell_type": "code",
   "execution_count": 9,
   "metadata": {},
   "outputs": [],
   "source": [
    "# New Dependency\n",
    "from datetime import datetime"
   ]
  },
  {
   "cell_type": "code",
   "execution_count": 10,
   "metadata": {},
   "outputs": [],
   "source": [
    "# Dependencies\n",
    "import tweepy\n",
    "import json\n",
    "import numpy as np\n",
    "import matplotlib.pyplot as plt\n",
    "from config import consumer_key, consumer_secret, access_token, access_token_secret\n",
    "\n",
    "# Setup Tweepy API Authentication\n",
    "auth = tweepy.OAuthHandler(consumer_key, consumer_secret)\n",
    "auth.set_access_token(access_token, access_token_secret)\n",
    "api = tweepy.API(auth, parser=tweepy.parsers.JSONParser())"
   ]
  },
  {
   "cell_type": "code",
   "execution_count": 11,
   "metadata": {},
   "outputs": [
    {
     "name": "stdout",
     "output_type": "stream",
     "text": [
      "Tue Oct 22 01:28:03 +0000 2019\n",
      "Tue Oct 22 01:18:05 +0000 2019\n",
      "Tue Oct 22 01:04:08 +0000 2019\n",
      "Tue Oct 22 00:46:05 +0000 2019\n",
      "Tue Oct 22 00:40:07 +0000 2019\n",
      "Tue Oct 22 00:27:39 +0000 2019\n",
      "Mon Oct 21 23:54:21 +0000 2019\n",
      "Mon Oct 21 23:25:07 +0000 2019\n",
      "Mon Oct 21 23:05:03 +0000 2019\n",
      "Mon Oct 21 23:03:05 +0000 2019\n",
      "Mon Oct 21 22:47:20 +0000 2019\n",
      "Mon Oct 21 22:30:32 +0000 2019\n",
      "Mon Oct 21 21:58:05 +0000 2019\n",
      "Mon Oct 21 21:51:48 +0000 2019\n",
      "Mon Oct 21 21:42:15 +0000 2019\n",
      "Mon Oct 21 21:36:02 +0000 2019\n",
      "Mon Oct 21 21:29:37 +0000 2019\n",
      "Mon Oct 21 21:20:16 +0000 2019\n",
      "Mon Oct 21 21:10:14 +0000 2019\n",
      "Mon Oct 21 21:03:32 +0000 2019\n"
     ]
    }
   ],
   "source": [
    "# Target User\n",
    "target_user = 'washingtonpost'\n",
    "\n",
    "# Get all tweets from home feed\n",
    "public_tweets = api.user_timeline(target_user)\n",
    "\n",
    "# A list to hold tweet timestamps\n",
    "tweet_times = []\n",
    "\n",
    "# Loop through all tweets\n",
    "for tweet in public_tweets:\n",
    "    raw_time = tweet[\"created_at\"]\n",
    "    print(raw_time)\n",
    "    tweet_times.append(raw_time)"
   ]
  },
  {
   "cell_type": "code",
   "execution_count": 12,
   "metadata": {},
   "outputs": [],
   "source": [
    "# Convert tweet timestamps to datetime objects that can be manipulated by\n",
    "# Python\n",
    "converted_timestamps = []\n",
    "for raw_time in tweet_times:\n",
    "    # https://docs.python.org/3/library/datetime.html#strftime-and-strptime-behavior\n",
    "    # http://strftime.org/\n",
    "    converted_time = datetime.strptime(raw_time, \"%a %b %d %H:%M:%S %z %Y\")\n",
    "    converted_timestamps.append(converted_time)"
   ]
  },
  {
   "cell_type": "code",
   "execution_count": 13,
   "metadata": {},
   "outputs": [
    {
     "name": "stdout",
     "output_type": "stream",
     "text": [
      "Tue Oct 22 01:28:03 +0000 2019\n",
      "Tue Oct 22 01:18:05 +0000 2019\n"
     ]
    }
   ],
   "source": [
    "print(tweet_times[0])\n",
    "print(tweet_times[1])"
   ]
  },
  {
   "cell_type": "code",
   "execution_count": 14,
   "metadata": {},
   "outputs": [
    {
     "name": "stdout",
     "output_type": "stream",
     "text": [
      "2019-10-22 01:28:03+00:00\n",
      "2019-10-22 01:18:05+00:00\n"
     ]
    }
   ],
   "source": [
    "print(converted_timestamps[0])\n",
    "print(converted_timestamps[1])"
   ]
  },
  {
   "cell_type": "code",
   "execution_count": 15,
   "metadata": {},
   "outputs": [
    {
     "name": "stdout",
     "output_type": "stream",
     "text": [
      "Time difference:  0:09:58\n",
      "seconds: 598\n"
     ]
    }
   ],
   "source": [
    "diff = converted_timestamps[0] - converted_timestamps[1]\n",
    "print(\"Time difference: \", diff)\n",
    "print('seconds: {}'.format(diff.seconds))"
   ]
  },
  {
   "cell_type": "code",
   "execution_count": 16,
   "metadata": {},
   "outputs": [
    {
     "name": "stdout",
     "output_type": "stream",
     "text": [
      "length of converted timestamps list: 20\n",
      "---\n",
      "time diff: 0:09:58\n",
      "time diff (in seconds): 598\n",
      "time diff (in minutes): 9.966666666666667\n",
      "time diff (in hours): 0.1661111111111111\n",
      "---\n",
      "time diff: 0:13:57\n",
      "time diff (in seconds): 837\n",
      "time diff (in minutes): 13.95\n",
      "time diff (in hours): 0.2325\n",
      "---\n",
      "time diff: 0:18:03\n",
      "time diff (in seconds): 1083\n",
      "time diff (in minutes): 18.05\n",
      "time diff (in hours): 0.30083333333333334\n",
      "---\n",
      "time diff: 0:05:58\n",
      "time diff (in seconds): 358\n",
      "time diff (in minutes): 5.966666666666667\n",
      "time diff (in hours): 0.09944444444444445\n",
      "---\n",
      "time diff: 0:12:28\n",
      "time diff (in seconds): 748\n",
      "time diff (in minutes): 12.466666666666667\n",
      "time diff (in hours): 0.20777777777777778\n",
      "---\n",
      "time diff: 0:33:18\n",
      "time diff (in seconds): 1998\n",
      "time diff (in minutes): 33.3\n",
      "time diff (in hours): 0.555\n",
      "---\n",
      "time diff: 0:29:14\n",
      "time diff (in seconds): 1754\n",
      "time diff (in minutes): 29.233333333333334\n",
      "time diff (in hours): 0.4872222222222222\n",
      "---\n",
      "time diff: 0:20:04\n",
      "time diff (in seconds): 1204\n",
      "time diff (in minutes): 20.066666666666666\n",
      "time diff (in hours): 0.33444444444444443\n",
      "---\n",
      "time diff: 0:01:58\n",
      "time diff (in seconds): 118\n",
      "time diff (in minutes): 1.9666666666666666\n",
      "time diff (in hours): 0.03277777777777778\n",
      "---\n",
      "time diff: 0:15:45\n",
      "time diff (in seconds): 945\n",
      "time diff (in minutes): 15.75\n",
      "time diff (in hours): 0.2625\n",
      "---\n",
      "time diff: 0:16:48\n",
      "time diff (in seconds): 1008\n",
      "time diff (in minutes): 16.8\n",
      "time diff (in hours): 0.28\n",
      "---\n",
      "time diff: 0:32:27\n",
      "time diff (in seconds): 1947\n",
      "time diff (in minutes): 32.45\n",
      "time diff (in hours): 0.5408333333333334\n",
      "---\n",
      "time diff: 0:06:17\n",
      "time diff (in seconds): 377\n",
      "time diff (in minutes): 6.283333333333333\n",
      "time diff (in hours): 0.10472222222222222\n",
      "---\n",
      "time diff: 0:09:33\n",
      "time diff (in seconds): 573\n",
      "time diff (in minutes): 9.55\n",
      "time diff (in hours): 0.15916666666666668\n",
      "---\n",
      "time diff: 0:06:13\n",
      "time diff (in seconds): 373\n",
      "time diff (in minutes): 6.216666666666667\n",
      "time diff (in hours): 0.10361111111111111\n",
      "---\n",
      "time diff: 0:06:25\n",
      "time diff (in seconds): 385\n",
      "time diff (in minutes): 6.416666666666667\n",
      "time diff (in hours): 0.10694444444444444\n",
      "---\n",
      "time diff: 0:09:21\n",
      "time diff (in seconds): 561\n",
      "time diff (in minutes): 9.35\n",
      "time diff (in hours): 0.15583333333333332\n",
      "---\n",
      "time diff: 0:10:02\n",
      "time diff (in seconds): 602\n",
      "time diff (in minutes): 10.033333333333333\n",
      "time diff (in hours): 0.16722222222222222\n",
      "---\n",
      "time diff: 0:06:42\n",
      "time diff (in seconds): 402\n",
      "time diff (in minutes): 6.7\n",
      "time diff (in hours): 0.11166666666666666\n",
      "Avg. Hours Between Tweets: 0.2320321637426901\n"
     ]
    }
   ],
   "source": [
    "converted_length = len(converted_timestamps)\n",
    "print(f\"length of converted timestamps list: {converted_length}\")\n",
    "\n",
    "time_diffs = []\n",
    "\n",
    "for x in range(converted_length - 1):\n",
    "    time_diff = converted_timestamps[x] - converted_timestamps[x + 1]\n",
    "    print('---')\n",
    "    print(f'time diff: {time_diff}')\n",
    "    print(f'time diff (in seconds): {time_diff.seconds}')\n",
    "    print(f'time diff (in minutes): {time_diff.seconds / 60}')\n",
    "    print(f'time diff (in hours): {time_diff.seconds / 3600}')\n",
    "\n",
    "    # convert time_diff to hours\n",
    "    time_diff = time_diff.seconds / 3600\n",
    "    time_diffs.append(time_diff)\n",
    "\n",
    "print(f\"Avg. Hours Between Tweets: {np.mean(time_diffs)}\")"
   ]
  }
 ],
 "metadata": {
  "kernelspec": {
   "display_name": "Python 3",
   "language": "python",
   "name": "python3"
  },
  "language_info": {
   "codemirror_mode": {
    "name": "ipython",
    "version": 3
   },
   "file_extension": ".py",
   "mimetype": "text/x-python",
   "name": "python",
   "nbconvert_exporter": "python",
   "pygments_lexer": "ipython3",
   "version": "3.7.3"
  },
  "varInspector": {
   "cols": {
    "lenName": 16,
    "lenType": 16,
    "lenVar": 40
   },
   "kernels_config": {
    "python": {
     "delete_cmd_postfix": "",
     "delete_cmd_prefix": "del ",
     "library": "var_list.py",
     "varRefreshCmd": "print(var_dic_list())"
    },
    "r": {
     "delete_cmd_postfix": ") ",
     "delete_cmd_prefix": "rm(",
     "library": "var_list.r",
     "varRefreshCmd": "cat(var_dic_list()) "
    }
   },
   "types_to_exclude": [
    "module",
    "function",
    "builtin_function_or_method",
    "instance",
    "_Feature"
   ],
   "window_display": false
  }
 },
 "nbformat": 4,
 "nbformat_minor": 2
}
